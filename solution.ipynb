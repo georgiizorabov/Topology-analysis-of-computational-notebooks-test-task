{
 "cells": [
  {
   "cell_type": "markdown",
   "id": "cc58a7f6",
   "metadata": {},
   "source": [
    "Why are you interested in this project and how do you see its implementation?\n",
    "\n",
    "This project is interesting to me because I would like to participate in the research of such interesting phenomena. I use Jupiter notebooks pretty often and notice the bad code quality in them, and the difficulty to operate with connected, chained cells, so it will be a pleasure to try to fix it and make Notebook better myself, I am very excited about a real research project with soft I really use on daily basis. I am ready to learn new things quickly and get new experiences from mentors and people from the industry.\n",
    "\n",
    "I satisfy the requirements because I had the Advanced Python course and two years of discrete mathematics graph theory. Also, I am finishing the Kotlin course right now and planning to go to Advanced Kotlin next semester, also I had a second year semester Kotlin project. \n",
    "\n",
    "Some thoughts about implementing the project.\n",
    "\n",
    "Firstly I think it will be a good idea to analyze what type of connection we are interested in. For example, creating and using the variables; defining and calling functions; importing modules and using fields from them, and so on.\n",
    "\n",
    "Then we should learn how to differ if the detected case is important or should be skipped (same variables names in different scopes, usage of a variable without mutating its value, and more)\n",
    "\n",
    "After that extract chains and make the execution group from them. Then build a plugin. "
   ]
  },
  {
   "cell_type": "code",
   "execution_count": 1,
   "id": "1e4b4d6b",
   "metadata": {},
   "outputs": [],
   "source": [
    "import astpretty\n",
    "import ast\n",
    "import graphviz"
   ]
  },
  {
   "cell_type": "code",
   "execution_count": 2,
   "id": "7cfe0cd4",
   "metadata": {},
   "outputs": [],
   "source": [
    "g = graphviz.Graph()\n",
    "cnt = 0\n",
    "var_colors = {}\n",
    "\n",
    "\n",
    "def get_color():\n",
    "    colors = [\"Red\", \"Orange\", \"Green\", \"Blue\", \"Yellow\", \"Purple\"]\n",
    "    i = 0\n",
    "    while True:\n",
    "        yield colors[i]\n",
    "        i += 1\n",
    "gen = get_color()\n"
   ]
  },
  {
   "cell_type": "code",
   "execution_count": 3,
   "id": "2243c6dd",
   "metadata": {},
   "outputs": [],
   "source": [
    "def getlabel(node):\n",
    "    name = node.__class__.__name__\n",
    "    label = name\n",
    "    ret = [name]\n",
    "    if isinstance(node, ast.Constant):\n",
    "        label += \": \" + str(node.value)\n",
    "        ret.append(str(node.value))\n",
    "    elif isinstance(node, ast.Name):\n",
    "        label += \": \" + str(node.id)\n",
    "\n",
    "        ret.append(str(node.id))\n",
    "    elif isinstance(node, ast.FunctionDef):\n",
    "        label += \": \" + str(node.name)\n",
    "        ret.append(str(node.name))\n",
    "    elif isinstance(node, ast.arg):\n",
    "        label += \": \" + str(node.arg)\n",
    "        ret.append(str(node.arg))\n",
    "    else:\n",
    "        ret.append(\"unknown\")\n",
    "    ret.append(label)\n",
    "\n",
    "    return ret"
   ]
  },
  {
   "cell_type": "code",
   "execution_count": 4,
   "id": "114eccb5",
   "metadata": {},
   "outputs": [],
   "source": [
    "class Visitor(object):\n",
    "\n",
    "    def generic_visit(self, node):\n",
    "        global gen\n",
    "        global cnt, var_colors\n",
    "        curnum = cnt\n",
    "        col = \"black\"\n",
    "        style = \"unfilled\"\n",
    "        name, val, lab = getlabel(node)\n",
    "        if lab != \"unknown\":\n",
    "            if name == \"Name\":\n",
    "                if val not in var_colors.keys():\n",
    "                    var_colors[val] = next(gen)\n",
    "                col = var_colors[val]\n",
    "                style = \"filled\"\n",
    "\n",
    "        g.node(str(curnum), label=lab, shape=\"square\", color=col, style=style)\n",
    "\n",
    "        cnt += 1\n",
    "        for field, value in ast.iter_fields(node):\n",
    "            if isinstance(value, list):\n",
    "                for item in value:\n",
    "                    if isinstance(item, ast.AST):\n",
    "                        g.edge(str(curnum), str(self.generic_visit(item)))\n",
    "\n",
    "            elif isinstance(value, ast.AST):\n",
    "                g.edge(str(curnum), str(self.generic_visit(value)))\n",
    "        return curnum"
   ]
  },
  {
   "cell_type": "code",
   "execution_count": 5,
   "id": "af83dbf8",
   "metadata": {},
   "outputs": [],
   "source": [
    "def ast_pprint_pic(code):\n",
    "    x = Visitor()\n",
    "    x.generic_visit(ast.parse(code))\n",
    "    g.render('artifacts/ast')"
   ]
  },
  {
   "cell_type": "code",
   "execution_count": 7,
   "id": "8dfaa924",
   "metadata": {},
   "outputs": [],
   "source": [
    "source_code = open('test.py').read()\n",
    "ast_pprint_pic(source_code)"
   ]
  },
  {
   "cell_type": "markdown",
   "id": "fd29f1eb",
   "metadata": {},
   "source": [
    "nodes -- operations, variables, functions\n",
    "edges -- ast edges\n",
    "same colors -- same variables (may be connected between each other and probobly should be excecuted together)"
   ]
  },
  {
   "cell_type": "code",
   "execution_count": 23,
   "id": "65d41a25",
   "metadata": {
    "scrolled": true
   },
   "outputs": [
    {
     "data": {
      "text/html": [
       "\n",
       "        <iframe\n",
       "            width=\"900\"\n",
       "            height=\"900\"\n",
       "            src=\"./artifacts/ast.pdf\"\n",
       "            frameborder=\"0\"\n",
       "            allowfullscreen\n",
       "            \n",
       "        ></iframe>\n",
       "        "
      ],
      "text/plain": [
       "<IPython.lib.display.IFrame at 0x7f2390563790>"
      ]
     },
     "execution_count": 23,
     "metadata": {},
     "output_type": "execute_result"
    }
   ],
   "source": [
    "from IPython.display import IFrame\n",
    "IFrame(\"./artifacts/ast.pdf\", width=900, height=900)"
   ]
  }
 ],
 "metadata": {
  "kernelspec": {
   "display_name": "Python 3 (ipykernel)",
   "language": "python",
   "name": "python3"
  },
  "language_info": {
   "codemirror_mode": {
    "name": "ipython",
    "version": 3
   },
   "file_extension": ".py",
   "mimetype": "text/x-python",
   "name": "python",
   "nbconvert_exporter": "python",
   "pygments_lexer": "ipython3",
   "version": "3.8.10"
  }
 },
 "nbformat": 4,
 "nbformat_minor": 5
}
